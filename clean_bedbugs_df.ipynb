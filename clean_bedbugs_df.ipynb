{
 "cells": [
  {
   "cell_type": "code",
   "execution_count": null,
   "metadata": {},
   "outputs": [],
   "source": [
    "import numpy as np\n",
    "import pandas as pd\n",
    "import matplotlib.pyplot as plt\n",
    "%matplotlib inline"
   ]
  },
  {
   "cell_type": "code",
   "execution_count": null,
   "metadata": {},
   "outputs": [],
   "source": [
    "import geopandas as gpd"
   ]
  },
  {
   "cell_type": "code",
   "execution_count": null,
   "metadata": {},
   "outputs": [],
   "source": [
    "df = pd.read_csv('Data/declarations-exterminations-punaises-de-lit.csv')"
   ]
  },
  {
   "cell_type": "code",
   "execution_count": null,
   "metadata": {},
   "outputs": [],
   "source": [
    "df['DATE_DECLARATION'] = pd.to_datetime(df['DATE_DECLARATION'])\n",
    "df['DATE_DEBUTTRAIT'] = pd.to_datetime(df['DATE_DEBUTTRAIT'])\n",
    "df['DATE_FINTRAIT'] = pd.to_datetime(df['DATE_FINTRAIT'])\n",
    "df['DATE_INSP_VISPRE'] = pd.to_datetime(df['DATE_INSP_VISPRE'])\n",
    "\n",
    "df['LEN_TRAIT'] = df['DATE_FINTRAIT'] - df['DATE_DEBUTTRAIT'] \n",
    "df['LEN_TRAIT'] = df['LEN_TRAIT'].dt.days\n",
    "df['NUM_WEEKS_TRAIT'] = np.ceil(df['LEN_TRAIT']/7)"
   ]
  },
  {
   "cell_type": "code",
   "execution_count": null,
   "metadata": {},
   "outputs": [],
   "source": [
    "df_bb = df[df['NUM_WEEKS_TRAIT']<=52]"
   ]
  },
  {
   "cell_type": "markdown",
   "metadata": {},
   "source": [
    "The date of the event is the minimum of date declaration, date inspection and date beginning of treatment, where the date that is kept is the one where at least 2 events occurred not so far apart. "
   ]
  },
  {
   "cell_type": "code",
   "execution_count": null,
   "metadata": {},
   "outputs": [],
   "source": [
    "len(df_bb)"
   ]
  },
  {
   "cell_type": "code",
   "execution_count": null,
   "metadata": {},
   "outputs": [],
   "source": [
    "condition = ((df_bb['DATE_DEBUTTRAIT'] - df_bb['DATE_DECLARATION']).dt.days > -365) & ((df_bb['DATE_DEBUTTRAIT'] - df_bb['DATE_INSP_VISPRE']).dt.days > -365)"
   ]
  },
  {
   "cell_type": "code",
   "execution_count": null,
   "metadata": {},
   "outputs": [],
   "source": [
    "condition2 = ((df_bb['DATE_DEBUTTRAIT'] - df_bb['DATE_DECLARATION']).dt.days < 365) & ((df_bb['DATE_DEBUTTRAIT'] - df_bb['DATE_INSP_VISPRE']).dt.days < 365)"
   ]
  },
  {
   "cell_type": "code",
   "execution_count": null,
   "metadata": {},
   "outputs": [],
   "source": [
    "df_bb = df_bb[condition2]"
   ]
  },
  {
   "cell_type": "code",
   "execution_count": null,
   "metadata": {},
   "outputs": [],
   "source": [
    "df_bb = df_bb[condition]"
   ]
  },
  {
   "cell_type": "code",
   "execution_count": null,
   "metadata": {},
   "outputs": [],
   "source": [
    "len(df_bb)"
   ]
  },
  {
   "cell_type": "code",
   "execution_count": null,
   "metadata": {},
   "outputs": [],
   "source": [
    "df_bb['DATE_EVENT'] = df_bb[['DATE_DECLARATION','DATE_INSP_VISPRE','DATE_DEBUTTRAIT']].min(axis = 1)\n",
    "\n",
    "df_bb['MONTH_EVENT'] = df_bb['DATE_EVENT'].dt.month\n",
    "event_week_tmp = []\n",
    "event_year_tmp = []\n",
    "for event in df_bb['DATE_EVENT']:\n",
    "    event_week_tmp.append(event.isocalendar()[1])\n",
    "    event_year_tmp.append(event.isocalendar()[0])    \n",
    "df_bb['YEAR_EVENT'] = event_year_tmp\n",
    "df_bb['WEEK_EVENT'] = event_week_tmp"
   ]
  },
  {
   "cell_type": "code",
   "execution_count": null,
   "metadata": {},
   "outputs": [],
   "source": [
    "df_bb.columns"
   ]
  },
  {
   "cell_type": "code",
   "execution_count": null,
   "metadata": {},
   "outputs": [],
   "source": [
    "df_bb_ = df_bb[[ 'NO_DECLARATION', 'No_QR', 'COORD_X', 'COORD_Y', 'NBR_EXTERMIN', 'DATE_EVENT', 'YEAR_EVENT',\n",
    "       'MONTH_EVENT', 'WEEK_EVENT', 'LEN_TRAIT', 'NUM_WEEKS_TRAIT', 'NOM_QR',\n",
    "       'NOM_ARROND', 'DATE_DECLARATION', 'DATE_INSP_VISPRE', 'DATE_DEBUTTRAIT']]"
   ]
  },
  {
   "cell_type": "code",
   "execution_count": null,
   "metadata": {},
   "outputs": [],
   "source": [
    "df_bb_['YEAR_EVENT'].min()"
   ]
  },
  {
   "cell_type": "code",
   "execution_count": null,
   "metadata": {
    "scrolled": true
   },
   "outputs": [],
   "source": [
    "df_bb_['DATE_EVENT'].isna().value_counts()"
   ]
  },
  {
   "cell_type": "code",
   "execution_count": null,
   "metadata": {},
   "outputs": [],
   "source": [
    "from shapely.geometry import Point\n",
    "import shapely"
   ]
  },
  {
   "cell_type": "code",
   "execution_count": null,
   "metadata": {},
   "outputs": [],
   "source": [
    "shapefiles = gpd.read_file('./quartierreferencehabitation/QuartierReferenceHabitation.shp', encoding = 'utf-8')"
   ]
  },
  {
   "cell_type": "code",
   "execution_count": null,
   "metadata": {},
   "outputs": [],
   "source": [
    "shapefiles = shapefiles[shapefiles['nom_mun'] == 'Montréal']"
   ]
  },
  {
   "cell_type": "code",
   "execution_count": null,
   "metadata": {},
   "outputs": [],
   "source": [
    "shapefiles['CENTROID'] = shapefiles.centroid"
   ]
  },
  {
   "cell_type": "code",
   "execution_count": null,
   "metadata": {},
   "outputs": [],
   "source": [
    "shapefiles['CENTROID_X'] =shapefiles.centroid.x\n",
    "shapefiles['CENTROID_Y'] =shapefiles.centroid.y\n"
   ]
  },
  {
   "cell_type": "code",
   "execution_count": null,
   "metadata": {},
   "outputs": [],
   "source": [
    "len(shapefiles['CENTROID_X'].unique())"
   ]
  },
  {
   "cell_type": "code",
   "execution_count": null,
   "metadata": {},
   "outputs": [],
   "source": [
    "df_ = df_bb_.merge(shapefiles[['no_qr', 'CENTROID_X', 'CENTROID_Y']], left_on = 'No_QR', right_on = 'no_qr')"
   ]
  },
  {
   "cell_type": "code",
   "execution_count": null,
   "metadata": {},
   "outputs": [],
   "source": [
    "df_.to_csv('bbugs_clean.csv', index=False)"
   ]
  },
  {
   "cell_type": "code",
   "execution_count": null,
   "metadata": {},
   "outputs": [],
   "source": [
    "df_.columns"
   ]
  },
  {
   "cell_type": "code",
   "execution_count": null,
   "metadata": {},
   "outputs": [],
   "source": []
  }
 ],
 "metadata": {
  "@webio": {
   "lastCommId": null,
   "lastKernelId": null
  },
  "kernelspec": {
   "display_name": "Python 3",
   "language": "python",
   "name": "python3"
  },
  "language_info": {
   "codemirror_mode": {
    "name": "ipython",
    "version": 3
   },
   "file_extension": ".py",
   "mimetype": "text/x-python",
   "name": "python",
   "nbconvert_exporter": "python",
   "pygments_lexer": "ipython3",
   "version": "3.7.3"
  }
 },
 "nbformat": 4,
 "nbformat_minor": 2
}
