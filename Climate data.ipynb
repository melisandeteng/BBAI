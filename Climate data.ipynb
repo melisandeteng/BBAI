{
 "cells": [
  {
   "cell_type": "code",
   "execution_count": 1,
   "metadata": {},
   "outputs": [],
   "source": [
    "import numpy as np\n",
    "import pandas as pd\n",
    "import matplotlib.pyplot as plt"
   ]
  },
  {
   "cell_type": "code",
   "execution_count": 14,
   "metadata": {},
   "outputs": [],
   "source": [
    "df = pd.read_csv('Data/climate-daily.csv')"
   ]
  },
  {
   "cell_type": "code",
   "execution_count": 3,
   "metadata": {},
   "outputs": [
    {
     "data": {
      "text/plain": [
       "Index(['x', 'y', 'STATION_NAME', 'STN_ID', 'CLIMATE_IDENTIFIER', 'ID',\n",
       "       'LOCAL_DATE', 'PROVINCE_CODE', 'LOCAL_YEAR', 'LOCAL_MONTH', 'LOCAL_DAY',\n",
       "       'MEAN_TEMPERATURE', 'MEAN_TEMPERATURE_FLAG', 'MIN_TEMPERATURE',\n",
       "       'MIN_TEMPERATURE_FLAG', 'MAX_TEMPERATURE', 'MAX_TEMPERATURE_FLAG',\n",
       "       'TOTAL_PRECIPITATION', 'TOTAL_PRECIPITATION_FLAG', 'TOTAL_RAIN',\n",
       "       'TOTAL_RAIN_FLAG', 'TOTAL_SNOW', 'TOTAL_SNOW_FLAG', 'SNOW_ON_GROUND',\n",
       "       'SNOW_ON_GROUND_FLAG', 'DIRECTION_MAX_GUST', 'DIRECTION_MAX_GUST_FLAG',\n",
       "       'SPEED_MAX_GUST', 'SPEED_MAX_GUST_FLAG', 'COOLING_DEGREE_DAYS',\n",
       "       'COOLING_DEGREE_DAYS_FLAG', 'HEATING_DEGREE_DAYS',\n",
       "       'HEATING_DEGREE_DAYS_FLAG', 'MIN_REL_HUMIDITY', 'MIN_REL_HUMIDITY_FLAG',\n",
       "       'MAX_REL_HUMIDITY', 'MAX_REL_HUMIDITY_FLAG'],\n",
       "      dtype='object')"
      ]
     },
     "execution_count": 3,
     "metadata": {},
     "output_type": "execute_result"
    }
   ],
   "source": [
    "df.columns"
   ]
  },
  {
   "cell_type": "code",
   "execution_count": 4,
   "metadata": {},
   "outputs": [],
   "source": [
    "# keep only the data we want to use\n",
    "df0 = df[['STATION_NAME','LOCAL_YEAR', 'LOCAL_MONTH', 'LOCAL_DAY',\n",
    "    'MEAN_TEMPERATURE', 'MIN_TEMPERATURE', 'MAX_TEMPERATURE',\n",
    "    'TOTAL_PRECIPITATION', 'TOTAL_RAIN', 'TOTAL_SNOW', 'SNOW_ON_GROUND',\n",
    "    'DIRECTION_MAX_GUST','SPEED_MAX_GUST', 'COOLING_DEGREE_DAYS',\n",
    "    'HEATING_DEGREE_DAYS','MIN_REL_HUMIDITY','MAX_REL_HUMIDITY']]"
   ]
  },
  {
   "cell_type": "code",
   "execution_count": 5,
   "metadata": {},
   "outputs": [
    {
     "data": {
      "text/plain": [
       "['MONTREAL/PIERRE ELLIOTT TRUDEAU INTL',\n",
       " 'MONTREAL/ST-HUBERT',\n",
       " 'MONTREAL/PIERRE ELLIOTT TRUDEAU INTL A']"
      ]
     },
     "execution_count": 5,
     "metadata": {},
     "output_type": "execute_result"
    }
   ],
   "source": [
    "# extract each station's data\n",
    "station_names = df0['STATION_NAME'].unique().tolist()\n",
    "station_names"
   ]
  },
  {
   "cell_type": "code",
   "execution_count": 6,
   "metadata": {},
   "outputs": [],
   "source": [
    "df1 = df0.loc[df0.STATION_NAME=='MONTREAL/PIERRE ELLIOTT TRUDEAU INTL']\n",
    "df1 = df1[df1.columns[1:]]"
   ]
  },
  {
   "cell_type": "code",
   "execution_count": 7,
   "metadata": {},
   "outputs": [],
   "source": [
    "df2 = df0.loc[df0.STATION_NAME=='MONTREAL/ST-HUBERT']\n",
    "df2 = df2[df2.columns[1:]]"
   ]
  },
  {
   "cell_type": "code",
   "execution_count": 8,
   "metadata": {},
   "outputs": [],
   "source": [
    "df3 = df0.loc[df0.STATION_NAME=='MONTREAL/PIERRE ELLIOTT TRUDEAU INTL A']\n",
    "df3 = df3[df3.columns[1:]]"
   ]
  },
  {
   "cell_type": "code",
   "execution_count": 9,
   "metadata": {},
   "outputs": [],
   "source": [
    "def aggregate_data_per_week(df):\n",
    "    \n",
    "    # aggregate the lines per weeks\n",
    "    df_per_week = []\n",
    "    for year in df['LOCAL_YEAR'].unique():\n",
    "        df_y = df.loc[df.LOCAL_YEAR==year]\n",
    "        for month in df_y['LOCAL_MONTH'].unique():\n",
    "            df_y_m = df_y.loc[df_y.LOCAL_MONTH==month]\n",
    "            df_y_m_s = []\n",
    "            cpt = 0\n",
    "            for index, row in df_y_m.iterrows():\n",
    "                line = row.values.tolist()\n",
    "                day = line[2]\n",
    "                id_week = int(year)*1000+int(month)*10+cpt\n",
    "                df_y_m_s.append([id_week] + line[3:])\n",
    "                if int(day)%7==0:\n",
    "                    cpt +=1\n",
    "                    df_per_week.append(df_y_m_s)\n",
    "                    df_y_m_s = []\n",
    "    \n",
    "    # make the summary of each week\n",
    "    # the columns are: 'MEAN_TEMPERATURE', 'MIN_TEMPERATURE', 'MAX_TEMPERATURE',\n",
    "    #                  'TOTAL_PRECIPITATION', 'TOTAL_RAIN', 'TOTAL_SNOW', 'SNOW_ON_GROUND',\n",
    "    #                  'DIRECTION_MAX_GUST','SPEED_MAX_GUST', 'COOLING_DEGREE_DAYS',\n",
    "    #                  'HEATING_DEGREE_DAYS','MIN_REL_HUMIDITY','MAX_REL_HUMIDITY'\n",
    "    df_per_week_summary = []\n",
    "    dw_m1 = np.array(df_per_week[0])\n",
    "    dw_m2 = np.array(df_per_week[0])\n",
    "    dw_m3 = np.array(df_per_week[0])\n",
    "    \n",
    "    for data_week in df_per_week:\n",
    "        data_week = np.array(data_week)\n",
    "        summary = [int(data_week[0,0])]\n",
    "        # summary of the week\n",
    "        summary.append(np.mean(data_week[:,1]))\n",
    "        summary.append(np.min(data_week[:,2]))\n",
    "        summary.append(np.max(data_week[:,3]))\n",
    "        summary.append(np.sum(data_week[:,4]))\n",
    "        summary.append(np.sum(data_week[:,5]))\n",
    "        summary.append(np.sum(data_week[:,6]))\n",
    "        summary.append(np.mean(data_week[:,7]))\n",
    "        summary.append(np.mean(data_week[:,8]))\n",
    "        summary.append(np.max(data_week[:,9]))\n",
    "        summary.append(np.mean(data_week[:,10]))\n",
    "        summary.append(np.mean(data_week[:,11]))\n",
    "        summary.append(np.min(data_week[:,12]))\n",
    "        summary.append(np.max(data_week[:,13]))\n",
    "        summary.append(len(np.where(data_week[:,3]>20)[0]))\n",
    "        summary.append(len(np.where(data_week[:,3]>25)[0]))\n",
    "        summary.append(len(np.where(data_week[:,3]>30)[0]))\n",
    "        summary.append(len(np.where(data_week[:,2]<10)[0]))\n",
    "        summary.append(len(np.where(data_week[:,2]<0)[0]))\n",
    "        summary.append(len(np.where(data_week[:,2]<-5)[0]))\n",
    "        summary.append(len(np.where(data_week[:,2]<-10)[0]))\n",
    "        summary.append(len(np.where(data_week[:,4]>5)[0]))\n",
    "        # summary of last 2 weeks\n",
    "        data_2week = np.concatenate((dw_m1,data_week), axis=0)\n",
    "        summary.append(np.mean(data_2week[:,1]))\n",
    "        summary.append(np.min(data_2week[:,2]))\n",
    "        summary.append(np.max(data_2week[:,3]))\n",
    "        summary.append(len(np.where(data_2week[:,3]>20)[0]))\n",
    "        summary.append(len(np.where(data_2week[:,3]>25)[0]))\n",
    "        summary.append(len(np.where(data_2week[:,3]>30)[0]))\n",
    "        summary.append(len(np.where(data_2week[:,2]<10)[0]))\n",
    "        summary.append(len(np.where(data_2week[:,2]<0)[0]))\n",
    "        summary.append(len(np.where(data_2week[:,2]<-5)[0]))\n",
    "        summary.append(len(np.where(data_2week[:,2]<-10)[0]))\n",
    "        summary.append(len(np.where(data_2week[:,4]>5)[0]))\n",
    "        # summary of last 3 weeks\n",
    "        data_3week = np.concatenate((dw_m2,dw_m1,data_week), axis=0)\n",
    "        summary.append(np.mean(data_3week[:,1]))\n",
    "        summary.append(np.min(data_3week[:,2]))\n",
    "        summary.append(np.max(data_3week[:,3]))\n",
    "        summary.append(len(np.where(data_3week[:,3]>20)[0]))\n",
    "        summary.append(len(np.where(data_3week[:,3]>25)[0]))\n",
    "        summary.append(len(np.where(data_3week[:,3]>30)[0]))\n",
    "        summary.append(len(np.where(data_3week[:,2]<10)[0]))\n",
    "        summary.append(len(np.where(data_3week[:,2]<0)[0]))\n",
    "        summary.append(len(np.where(data_3week[:,2]<-5)[0]))\n",
    "        summary.append(len(np.where(data_3week[:,2]<-10)[0]))\n",
    "        summary.append(len(np.where(data_3week[:,4]>5)[0]))\n",
    "        # summary of last 4 weeks\n",
    "        data_4week = np.concatenate((dw_m3,dw_m2,dw_m1,data_week), axis=0)\n",
    "        summary.append(np.mean(data_4week[:,1]))\n",
    "        summary.append(np.min(data_4week[:,2]))\n",
    "        summary.append(np.max(data_4week[:,3]))\n",
    "        summary.append(len(np.where(data_4week[:,3]>20)[0]))\n",
    "        summary.append(len(np.where(data_4week[:,3]>25)[0]))\n",
    "        summary.append(len(np.where(data_4week[:,3]>30)[0]))\n",
    "        summary.append(len(np.where(data_4week[:,2]<10)[0]))\n",
    "        summary.append(len(np.where(data_4week[:,2]<0)[0]))\n",
    "        summary.append(len(np.where(data_4week[:,2]<-5)[0]))\n",
    "        summary.append(len(np.where(data_4week[:,2]<-10)[0]))\n",
    "        summary.append(len(np.where(data_4week[:,4]>5)[0]))\n",
    "        \n",
    "        dw_m3 = dw_m2\n",
    "        dw_m2 = dw_m1\n",
    "        dw_m1 = data_week\n",
    "        df_per_week_summary.append(summary)\n",
    "    \n",
    "    df_week = pd.DataFrame(df_per_week_summary, columns=['id_week',\n",
    "    'MEAN_TEMPERATURE', 'MIN_TEMPERATURE', 'MAX_TEMPERATURE',\n",
    "    'TOTAL_PRECIPITATION', 'TOTAL_RAIN', 'TOTAL_SNOW', 'SNOW_ON_GROUND',\n",
    "    'DIRECTION_MAX_GUST','SPEED_MAX_GUST', 'COOLING_DEGREE_DAYS',\n",
    "    'HEATING_DEGREE_DAYS','MIN_REL_HUMIDITY','MAX_REL_HUMIDITY',\n",
    "    'nb_j_t_sup20_1w', 'nb_j_t_sup25_1w', 'nb_j_t_sup30_1w', 'nb_j_t_inf_10_1w', 'nb_j_t_inf_0_1w', 'nb_jt__inf_m5_1w',\n",
    "    'nb_j_t_inf_m10_1w', 'nb_j_rain_sup_5_1w',\n",
    "    'mean_t_2w', 'min_t_2w', 'max_t_2w',\n",
    "    'nb_j_t_sup20_2w', 'nb_j_t_sup25_2w', 'nb_j_t_sup30_2w', 'nb_j_t_inf_10_2w', 'nb_j_t_inf_0_2w', 'nb_jt__inf_m5_2w',\n",
    "    'nb_j_t_inf_m10_2w', 'nb_j_rain_sup_5_2w',\n",
    "    'mean_t_3w', 'min_t_3w', 'max_t_3w',\n",
    "    'nb_j_t_sup20_3w', 'nb_j_t_sup25_3w', 'nb_j_t_sup30_3w', 'nb_j_t_inf_10_3w', 'nb_j_t_inf_0_3w', 'nb_jt__inf_m5_3w',\n",
    "    'nb_j_t_inf_m10_3w', 'nb_j_rain_sup_5_3w',\n",
    "    'mean_t_4w', 'min_t_4w', 'max_t_4w',\n",
    "    'nb_j_t_sup20_4w', 'nb_j_t_sup25_4w', 'nb_j_t_sup30_4w', 'nb_j_t_inf_10_4w', 'nb_j_t_inf_0_4w', 'nb_jt__inf_m5_4w',\n",
    "    'nb_j_t_inf_m10_4w', 'nb_j_rain_sup_5_4w'])\n",
    "    \n",
    "    return(df_week)"
   ]
  },
  {
   "cell_type": "code",
   "execution_count": 10,
   "metadata": {},
   "outputs": [
    {
     "name": "stderr",
     "output_type": "stream",
     "text": [
      "L:\\Anaconda3\\lib\\site-packages\\ipykernel_launcher.py:48: RuntimeWarning: invalid value encountered in greater\n",
      "L:\\Anaconda3\\lib\\site-packages\\ipykernel_launcher.py:49: RuntimeWarning: invalid value encountered in greater\n",
      "L:\\Anaconda3\\lib\\site-packages\\ipykernel_launcher.py:50: RuntimeWarning: invalid value encountered in greater\n",
      "L:\\Anaconda3\\lib\\site-packages\\ipykernel_launcher.py:51: RuntimeWarning: invalid value encountered in less\n",
      "L:\\Anaconda3\\lib\\site-packages\\ipykernel_launcher.py:52: RuntimeWarning: invalid value encountered in less\n",
      "L:\\Anaconda3\\lib\\site-packages\\ipykernel_launcher.py:53: RuntimeWarning: invalid value encountered in less\n",
      "L:\\Anaconda3\\lib\\site-packages\\ipykernel_launcher.py:54: RuntimeWarning: invalid value encountered in less\n",
      "L:\\Anaconda3\\lib\\site-packages\\ipykernel_launcher.py:61: RuntimeWarning: invalid value encountered in greater\n",
      "L:\\Anaconda3\\lib\\site-packages\\ipykernel_launcher.py:62: RuntimeWarning: invalid value encountered in greater\n",
      "L:\\Anaconda3\\lib\\site-packages\\ipykernel_launcher.py:63: RuntimeWarning: invalid value encountered in greater\n",
      "L:\\Anaconda3\\lib\\site-packages\\ipykernel_launcher.py:64: RuntimeWarning: invalid value encountered in less\n",
      "L:\\Anaconda3\\lib\\site-packages\\ipykernel_launcher.py:65: RuntimeWarning: invalid value encountered in less\n",
      "L:\\Anaconda3\\lib\\site-packages\\ipykernel_launcher.py:66: RuntimeWarning: invalid value encountered in less\n",
      "L:\\Anaconda3\\lib\\site-packages\\ipykernel_launcher.py:67: RuntimeWarning: invalid value encountered in less\n",
      "L:\\Anaconda3\\lib\\site-packages\\ipykernel_launcher.py:74: RuntimeWarning: invalid value encountered in greater\n",
      "L:\\Anaconda3\\lib\\site-packages\\ipykernel_launcher.py:75: RuntimeWarning: invalid value encountered in greater\n",
      "L:\\Anaconda3\\lib\\site-packages\\ipykernel_launcher.py:76: RuntimeWarning: invalid value encountered in greater\n",
      "L:\\Anaconda3\\lib\\site-packages\\ipykernel_launcher.py:77: RuntimeWarning: invalid value encountered in less\n",
      "L:\\Anaconda3\\lib\\site-packages\\ipykernel_launcher.py:78: RuntimeWarning: invalid value encountered in less\n",
      "L:\\Anaconda3\\lib\\site-packages\\ipykernel_launcher.py:79: RuntimeWarning: invalid value encountered in less\n",
      "L:\\Anaconda3\\lib\\site-packages\\ipykernel_launcher.py:80: RuntimeWarning: invalid value encountered in less\n",
      "L:\\Anaconda3\\lib\\site-packages\\ipykernel_launcher.py:87: RuntimeWarning: invalid value encountered in greater\n",
      "L:\\Anaconda3\\lib\\site-packages\\ipykernel_launcher.py:88: RuntimeWarning: invalid value encountered in greater\n",
      "L:\\Anaconda3\\lib\\site-packages\\ipykernel_launcher.py:89: RuntimeWarning: invalid value encountered in greater\n",
      "L:\\Anaconda3\\lib\\site-packages\\ipykernel_launcher.py:90: RuntimeWarning: invalid value encountered in less\n",
      "L:\\Anaconda3\\lib\\site-packages\\ipykernel_launcher.py:91: RuntimeWarning: invalid value encountered in less\n",
      "L:\\Anaconda3\\lib\\site-packages\\ipykernel_launcher.py:92: RuntimeWarning: invalid value encountered in less\n",
      "L:\\Anaconda3\\lib\\site-packages\\ipykernel_launcher.py:93: RuntimeWarning: invalid value encountered in less\n",
      "L:\\Anaconda3\\lib\\site-packages\\ipykernel_launcher.py:55: RuntimeWarning: invalid value encountered in greater\n",
      "L:\\Anaconda3\\lib\\site-packages\\ipykernel_launcher.py:68: RuntimeWarning: invalid value encountered in greater\n",
      "L:\\Anaconda3\\lib\\site-packages\\ipykernel_launcher.py:81: RuntimeWarning: invalid value encountered in greater\n",
      "L:\\Anaconda3\\lib\\site-packages\\ipykernel_launcher.py:94: RuntimeWarning: invalid value encountered in greater\n"
     ]
    }
   ],
   "source": [
    "df1_w = aggregate_data_per_week(df1)\n",
    "df2_w = aggregate_data_per_week(df2)\n",
    "df3_w = aggregate_data_per_week(df3)"
   ]
  },
  {
   "cell_type": "code",
   "execution_count": 11,
   "metadata": {},
   "outputs": [
    {
     "data": {
      "text/plain": [
       "2012100"
      ]
     },
     "execution_count": 11,
     "metadata": {},
     "output_type": "execute_result"
    }
   ],
   "source": [
    "# 2012 10 0 (1st week of october of 2012)\n",
    "df1_w.id_week.unique()[84]"
   ]
  },
  {
   "cell_type": "code",
   "execution_count": 12,
   "metadata": {},
   "outputs": [],
   "source": [
    "data_week = []\n",
    "for week in df1_w.id_week.unique()[84:]:\n",
    "    df1_week = df1_w.loc[df1_w.id_week==week].values[:,1:]\n",
    "    if week in df2_w.id_week.unique() and week in df3_w.id_week.unique():\n",
    "        df2_week = df2_w.loc[df2_w.id_week==week].values[:,1:]\n",
    "        df3_week = df3_w.loc[df3_w.id_week==week].values[:,1:]\n",
    "        data_week.append(np.mean(np.concatenate((df1_week, df2_week, df3_week), axis=0), axis=0))\n",
    "    elif week in df2_w.id_week.unique():\n",
    "        df2_week = df2_w.loc[df2_w.id_week==week].values[:,1:]\n",
    "        data_week.append(np.mean(np.concatenate((df1_week, df2_week), axis=0), axis=0))\n",
    "    elif week in df3_w.id_week.unique():\n",
    "        df3_week = df3_w.loc[df3_w.id_week==week].values[:,1:]\n",
    "        data_week.append(np.mean(np.concatenate((df1_week, df3_week), axis=0), axis=0))\n",
    "    else:\n",
    "        data_week.append(df1_week[0])"
   ]
  },
  {
   "cell_type": "code",
   "execution_count": 13,
   "metadata": {},
   "outputs": [],
   "source": [
    "df_final = pd.DataFrame(data_week, columns=[\n",
    "    'MEAN_TEMPERATURE', 'MIN_TEMPERATURE', 'MAX_TEMPERATURE',\n",
    "    'TOTAL_PRECIPITATION', 'TOTAL_RAIN', 'TOTAL_SNOW', 'SNOW_ON_GROUND',\n",
    "    'DIRECTION_MAX_GUST','SPEED_MAX_GUST', 'COOLING_DEGREE_DAYS',\n",
    "    'HEATING_DEGREE_DAYS','MIN_REL_HUMIDITY','MAX_REL_HUMIDITY',\n",
    "    'nb_j_t_sup20_1w', 'nb_j_t_sup25_1w', 'nb_j_t_sup30_1w', 'nb_j_t_inf_10_1w', 'nb_j_t_inf_0_1w', 'nb_jt__inf_m5_1w',\n",
    "    'nb_j_t_inf_m10_1w', 'nb_j_rain_sup_5_1w',\n",
    "    'mean_t_2w', 'min_t_2w', 'max_t_2w',\n",
    "    'nb_j_t_sup20_2w', 'nb_j_t_sup25_2w', 'nb_j_t_sup30_2w', 'nb_j_t_inf_10_2w', 'nb_j_t_inf_0_2w', 'nb_jt__inf_m5_2w',\n",
    "    'nb_j_t_inf_m10_2w', 'nb_j_rain_sup_5_2w',\n",
    "    'mean_t_3w', 'min_t_3w', 'max_t_3w',\n",
    "    'nb_j_t_sup20_3w', 'nb_j_t_sup25_3w', 'nb_j_t_sup30_3w', 'nb_j_t_inf_10_3w', 'nb_j_t_inf_0_3w', 'nb_jt__inf_m5_3w',\n",
    "    'nb_j_t_inf_m10_3w', 'nb_j_rain_sup_5_3w',\n",
    "    'mean_t_4w', 'min_t_4w', 'max_t_4w',\n",
    "    'nb_j_t_sup20_4w', 'nb_j_t_sup25_4w', 'nb_j_t_sup30_4w', 'nb_j_t_inf_10_4w', 'nb_j_t_inf_0_4w', 'nb_jt__inf_m5_4w',\n",
    "    'nb_j_t_inf_m10_4w', 'nb_j_rain_sup_5_4w'])\n",
    "df_final = df_final[['TOTAL_PRECIPITATION','MEAN_TEMPERATURE', 'MIN_TEMPERATURE', 'MAX_TEMPERATURE', 'COOLING_DEGREE_DAYS',\n",
    "    'HEATING_DEGREE_DAYS', 'nb_j_t_sup20_1w', 'nb_j_t_sup25_1w', 'nb_j_t_sup30_1w', 'nb_j_t_inf_10_1w', 'nb_j_t_inf_0_1w', 'nb_jt__inf_m5_1w',\n",
    "    'nb_j_t_inf_m10_1w', 'nb_j_rain_sup_5_1w',\n",
    "    'mean_t_2w', 'min_t_2w', 'max_t_2w',\n",
    "    'nb_j_t_sup20_2w', 'nb_j_t_sup25_2w', 'nb_j_t_sup30_2w', 'nb_j_t_inf_10_2w', 'nb_j_t_inf_0_2w', 'nb_jt__inf_m5_2w',\n",
    "    'nb_j_t_inf_m10_2w', 'nb_j_rain_sup_5_2w',\n",
    "    'mean_t_3w', 'min_t_3w', 'max_t_3w',\n",
    "    'nb_j_t_sup20_3w', 'nb_j_t_sup25_3w', 'nb_j_t_sup30_3w', 'nb_j_t_inf_10_3w', 'nb_j_t_inf_0_3w', 'nb_jt__inf_m5_3w',\n",
    "    'nb_j_t_inf_m10_3w', 'nb_j_rain_sup_5_3w',\n",
    "    'mean_t_4w', 'min_t_4w', 'max_t_4w',\n",
    "    'nb_j_t_sup20_4w', 'nb_j_t_sup25_4w', 'nb_j_t_sup30_4w', 'nb_j_t_inf_10_4w', 'nb_j_t_inf_0_4w', 'nb_jt__inf_m5_4w',\n",
    "    'nb_j_t_inf_m10_4w', 'nb_j_rain_sup_5_4w']]\n",
    "df_final.fillna(method='ffill', inplace=True)\n",
    "df_final.to_csv('climate_per_week_final.csv')"
   ]
  },
  {
   "cell_type": "code",
   "execution_count": null,
   "metadata": {},
   "outputs": [],
   "source": []
  }
 ],
 "metadata": {
  "kernelspec": {
   "display_name": "Python 3",
   "language": "python",
   "name": "python3"
  },
  "language_info": {
   "codemirror_mode": {
    "name": "ipython",
    "version": 3
   },
   "file_extension": ".py",
   "mimetype": "text/x-python",
   "name": "python",
   "nbconvert_exporter": "python",
   "pygments_lexer": "ipython3",
   "version": "3.6.5"
  }
 },
 "nbformat": 4,
 "nbformat_minor": 2
}
