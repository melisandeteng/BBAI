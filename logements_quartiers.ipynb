{
 "cells": [
  {
   "cell_type": "code",
   "execution_count": null,
   "metadata": {},
   "outputs": [],
   "source": [
    "import pandas as pd\n",
    "import numpy as np"
   ]
  },
  {
   "cell_type": "code",
   "execution_count": null,
   "metadata": {},
   "outputs": [],
   "source": [
    "# def check_same_quartier(df1, df2, col_nbquartier_df1, col_nbquartier_df2, col_namequartier_df1, col_namequartier_df2):\n",
    "def check_same_quartier(df1, df2):\n",
    "    for row in df1.itertuples():\n",
    "        curr_no_qr = row.no_qr\n",
    "        curr_nom_qr = row.nom_qr\n",
    "        is_same = curr_nom_qr == df2[df2['no_qr'] == curr_no_qr]['nom_qr']\n",
    "        if is_same.bool()==False:\n",
    "            print(curr_no_qr, curr_nom_qr, df2[df2['no_qr'] == curr_no_qr]['nom_qr'])\n",
    "\n",
    "# check_same_quartier(df_nb_logements, df_quartier)"
   ]
  },
  {
   "cell_type": "code",
   "execution_count": null,
   "metadata": {},
   "outputs": [],
   "source": [
    "# Importation des quartiers\n",
    "df_quartier = pd.read_csv('Data/quartierreferencehabitation.csv')\n",
    "df_quartier.sort_values(by=['no_qr'], inplace=True)\n",
    "\n",
    "# Importations du nombre de logements par quartier\n",
    "df_nb_logements = pd.read_csv('Data/nombrelogementsquartiersreference.csv')\n",
    "df_nb_logements.rename(columns={'No_QR': 'no_qr', 'Nom_QR': 'nom_qr'}, inplace=True)\n",
    "df_nb_logements.sort_values(by=['no_qr'], inplace=True)\n",
    "\n",
    "# Importation du nombre de logements sociaux par quartier\n",
    "df_nb_log_sociaux = pd.read_csv('Data/logements-sociaux.csv', sep=';', encoding='latin-1')\n",
    "df_nb_log_sociaux.rename(columns={'qr': 'no_qr'}, inplace=True)\n",
    "\n",
    "final_df = pd.DataFrame()\n",
    "\n",
    "df_quartier[df_quartier['nom_mun'] == 'Montréal']\n",
    "final_df['no_qr'] = df_quartier[df_quartier['nom_mun'] == 'Montréal']['no_qr']\n",
    "final_df['nom_qr'] = df_quartier[df_quartier['nom_mun'] == 'Montréal']['nom_qr']"
   ]
  },
  {
   "cell_type": "code",
   "execution_count": null,
   "metadata": {},
   "outputs": [],
   "source": [
    "# Ajout du nombre d'habitants\n",
    "nb_logements = []\n",
    "for curr_no_qr in final_df['no_qr']:\n",
    "    a = df_nb_logements[df_nb_logements['no_qr'] == curr_no_qr]['Nb_log'].tolist()\n",
    "    nb_logements.append(a[0])\n",
    "final_df['nb_logements'] = nb_logements\n",
    "\n",
    "# Ajout du nombre de logements sociaux\n",
    "nb_log_sociaux = []\n",
    "for curr_no_qr in final_df['no_qr']:\n",
    "    a = df_nb_log_sociaux[df_nb_log_sociaux['no_qr'] == curr_no_qr]['nb_log'].tolist()\n",
    "    nb_log_sociaux.append(sum(a))\n",
    "final_df['nb_log_sociaux'] = nb_log_sociaux\n",
    "\n",
    "# Ajout proportion logements sociaux\n",
    "a = final_df['nb_logements'].tolist()\n",
    "b = final_df['nb_log_sociaux'].tolist()\n",
    "prop_log_sociaux = np.divide(np.array(b), np.array(a)) * 100\n",
    "final_df['prop_log_sociaux'] = prop_log_sociaux"
   ]
  },
  {
   "cell_type": "code",
   "execution_count": null,
   "metadata": {},
   "outputs": [],
   "source": [
    "df_final = pd.read_csv('Data/bbugs_final.csv')\n",
    "df_clean = pd.read_csv('Data/bbugs_clean.csv')\n",
    "df_climate = pd.read_csv('Data/climate_per_week_final.csv')\n",
    "df_climate = df_climate[13:]\n",
    "cpt = 0\n",
    "\n",
    "for id_qr in df_final.NO_QR.unique():\n",
    "    \n",
    "    # rows for the qr in df final\n",
    "    df_final_qr = df_final.loc[df_final.NO_QR==id_qr]\n",
    "    n_row, _ = df_final_qr.shape\n",
    "    \n",
    "    # nb logements and prop log sociaux for the qr\n",
    "    final_df_qr = final_df.loc[final_df.no_qr==id_qr][['nb_logements','prop_log_sociaux']]\n",
    "    final_df_qr_repeat = pd.concat([final_df_qr]*n_row, ignore_index=True).values\n",
    "    \n",
    "    # insert the 2 features to the data\n",
    "    df_final_qr.insert(4,'prop_log_sociaux', final_df_qr_repeat[:,1], allow_duplicates = False)\n",
    "    df_final_qr.insert(4,'nb_logements', final_df_qr_repeat[:,0], allow_duplicates = False)\n",
    "    \n",
    "    # centroid coordinates for the qr\n",
    "    df_clean_qr = np.array(list([df_clean.loc[df_clean.no_qr==id_qr][['CENTROID_X', 'CENTROID_Y']].values[1]])*n_row)\n",
    "    # insert centroids\n",
    "    df_final_qr.insert(4,'CENTROID X', df_clean_qr[:,0], allow_duplicates = False)\n",
    "    df_final_qr.insert(4,'CENTROID Y', df_clean_qr[:,1], allow_duplicates = False)\n",
    "    \n",
    "    if cpt == 0:\n",
    "        \n",
    "        DF_final = df_final_qr\n",
    "    \n",
    "    else:\n",
    "        \n",
    "        DF_final = pd.concat([DF_final, df_final_qr], ignore_index=True)\n",
    "    \n",
    "    cpt += 1\n",
    "\n",
    "DF_final['NB_EXTERMINATIONS'] = DF_final['NB_EXTERMINATIONS']/DF_final['nb_logements']\n",
    "DF_final['NB_EXTERMINATIONS_2'] = DF_final['NB_EXTERMINATIONS_2']/DF_final['nb_logements']\n",
    "DF_final['NB_EXTERMINATIONS_3'] = DF_final['NB_EXTERMINATIONS_3']/DF_final['nb_logements']\n",
    "DF_final['NB_EXTERMINATIONS_4'] = DF_final['NB_EXTERMINATIONS_4']/DF_final['nb_logements']\n",
    "DF_final['LABEL_1mois'] = DF_final['LABEL_1mois']\n",
    "DF_final['LABEL_3mois'] = DF_final['LABEL_3mois']\n",
    "DF_final"
   ]
  },
  {
   "cell_type": "code",
   "execution_count": null,
   "metadata": {},
   "outputs": [],
   "source": [
    "def trsnform_week_id(weid):\n",
    "    b = weid.split('-')\n",
    "    return float(int(b[0])*100 + int(b[1]))\n",
    "NEW_WEEK_ID = []\n",
    "for weid in DF_final['WEEK_ID']:\n",
    "    NEW_WEEK_ID.append(trsnform_week_id(weid))\n",
    "DF_final['WEEK_ID'] = NEW_WEEK_ID"
   ]
  },
  {
   "cell_type": "code",
   "execution_count": null,
   "metadata": {},
   "outputs": [],
   "source": [
    "DF_FINAL = DF_final.merge(df_climate, left_on = 'WEEK_ID', right_on = 'id_week')\n",
    "\n",
    "Y_FINAL = DF_FINAL[['LABEL_1mois', 'LABEL_3mois']]\n",
    "cols_X = ['NO_QR', 'CENTROID Y', 'CENTROID X', 'nb_logements', 'prop_log_sociaux',\n",
    "       'NB_EXTERMINATIONS', 'NB_EXTERMINATIONS_2', 'NB_EXTERMINATIONS_3',\n",
    "       'NB_EXTERMINATIONS_4',\n",
    "       'id_week', 'MEAN_TEMPERATURE', 'MIN_TEMPERATURE', 'MAX_TEMPERATURE',\n",
    "       'TOTAL_PRECIPITATION', 'TOTAL_RAIN', 'TOTAL_SNOW', 'DIRECTION_MAX_GUST',\n",
    "       'SPEED_MAX_GUST', 'COOLING_DEGREE_DAYS', 'HEATING_DEGREE_DAYS',\n",
    "       'nb_j_t_sup20_1w', 'nb_j_t_sup25_1w', 'nb_j_t_sup30_1w',\n",
    "       'nb_j_t_inf_10_1w', 'nb_j_t_inf_0_1w', 'nb_jt__inf_m5_1w',\n",
    "       'nb_j_t_inf_m10_1w', 'nb_j_precip_sup_5_1w', 'mean_t_4w', 'min_t_4w',\n",
    "       'max_t_4w', 'tot_precip_4w', 'tot_rain_4w', 'tot_snow_4w',\n",
    "       'nb_j_t_sup20_4w', 'nb_j_t_sup25_4w', 'nb_j_t_sup30_4w',\n",
    "       'nb_j_t_inf_10_4w', 'nb_j_t_inf_0_4w', 'nb_jt__inf_m5_4w',\n",
    "       'nb_j_t_inf_m10_4w', 'nb_j_precip_sup_5_4w', 'mean_t_3w', 'min_t_3w',\n",
    "       'max_t_3w', 'tot_precip_3w', 'tot_rain_3w', 'tot_snow_3w',\n",
    "       'nb_j_t_sup20_3w', 'nb_j_t_sup25_3w', 'nb_j_t_sup30_3w',\n",
    "       'nb_j_t_inf_10_3w', 'nb_j_t_inf_0_3w', 'nb_jt__inf_m5_3w',\n",
    "       'nb_j_t_inf_m10_3w', 'nb_j_precip_sup_5_3w', 'mean_t_2w', 'min_t_4w.1',\n",
    "       'max_t_2w', 'tot_precip_2w', 'tot_rain_2w', 'tot_snow_2w',\n",
    "       'nb_j_t_sup20_2w', 'nb_j_t_sup25_2w', 'nb_j_t_sup30_2w',\n",
    "       'nb_j_t_inf_10_2w', 'nb_j_t_inf_0_2w', 'nb_jt__inf_m5_2w',\n",
    "       'nb_j_t_inf_m10_2w', 'nb_j_precip_sup_5_2w']\n",
    "X_FINAL = DF_FINAL[cols_X]"
   ]
  },
  {
   "cell_type": "code",
   "execution_count": null,
   "metadata": {},
   "outputs": [],
   "source": [
    "X_FINAL.to_csv('X_final.csv', index=False)\n",
    "Y_FINAL.to_csv('Y_final.csv', index=False)"
   ]
  },
  {
   "cell_type": "code",
   "execution_count": null,
   "metadata": {},
   "outputs": [],
   "source": [
    "DF_final.columns"
   ]
  },
  {
   "cell_type": "code",
   "execution_count": null,
   "metadata": {},
   "outputs": [],
   "source": []
  }
 ],
 "metadata": {
  "@webio": {
   "lastCommId": null,
   "lastKernelId": null
  },
  "kernelspec": {
   "display_name": "Python 3",
   "language": "python",
   "name": "python3"
  },
  "language_info": {
   "codemirror_mode": {
    "name": "ipython",
    "version": 3
   },
   "file_extension": ".py",
   "mimetype": "text/x-python",
   "name": "python",
   "nbconvert_exporter": "python",
   "pygments_lexer": "ipython3",
   "version": "3.7.3"
  }
 },
 "nbformat": 4,
 "nbformat_minor": 2
}
