{
 "cells": [
  {
   "cell_type": "code",
   "execution_count": null,
   "metadata": {},
   "outputs": [],
   "source": [
    "import pandas as pd\n",
    "from datetime import datetime, timedelta\n",
    "# import geopandas as gpd"
   ]
  },
  {
   "cell_type": "code",
   "execution_count": null,
   "metadata": {},
   "outputs": [],
   "source": [
    "bbugs = pd.read_csv('./Data/bbugs_clean.csv')"
   ]
  },
  {
   "cell_type": "code",
   "execution_count": null,
   "metadata": {},
   "outputs": [],
   "source": [
    "bbugs.columns"
   ]
  },
  {
   "cell_type": "code",
   "execution_count": null,
   "metadata": {},
   "outputs": [],
   "source": [
    "grouped_events = bbugs.groupby(['YEAR_EVENT', 'WEEK_EVENT', 'No_QR'], as_index=False).agg({'NO_DECLARATION':'count', 'NBR_EXTERMIN':'sum'})\n",
    "grouped_events = grouped_events.sort_values(['No_QR', 'YEAR_EVENT', 'WEEK_EVENT'])"
   ]
  },
  {
   "cell_type": "code",
   "execution_count": null,
   "metadata": {},
   "outputs": [],
   "source": [
    "grouped_events.tail(5)"
   ]
  },
  {
   "cell_type": "code",
   "execution_count": null,
   "metadata": {},
   "outputs": [],
   "source": [
    "grouped_events_copy = grouped_events.copy()\n",
    "grouped_events_copy['No_QR'].unique()"
   ]
  },
  {
   "cell_type": "code",
   "execution_count": null,
   "metadata": {},
   "outputs": [],
   "source": [
    "def get_id_week(date):\n",
    "    return str(date.isocalendar()[0])+'-'+str(date.isocalendar()[1])"
   ]
  },
  {
   "cell_type": "code",
   "execution_count": null,
   "metadata": {},
   "outputs": [],
   "source": [
    "# Le 3 janvier 2011 est un lundi\n",
    "# le date id est de la forme YYYY-W ou YYYY-WW où YYYY est l'année grégorienne (qui peut être différente de l'année en cours)\n",
    "# et WW la semaine grégorienne. Les deux sont obtenus avec isocalendar()\n",
    "WEEK_ID = []\n",
    "YEAR = []\n",
    "MONTH = []\n",
    "MONTH_NAME = []\n",
    "WEEK = []\n",
    "NO_QR = []\n",
    "for no_qr in grouped_events_copy['No_QR'].unique():\n",
    "    date = datetime(2011,1,3)\n",
    "    while date < datetime(2019,6,30):\n",
    "        curr_id_week = get_id_week(date)\n",
    "        WEEK_ID.append(curr_id_week)\n",
    "        YEAR.append(date.isocalendar()[0])        \n",
    "        WEEK.append(date.isocalendar()[1])\n",
    "        MONTH.append(date.month)\n",
    "        MONTH_NAME.append(date.strftime(\"%B\"))\n",
    "        NO_QR.append(str(no_qr))\n",
    "        date = date + timedelta(days=7)\n",
    "df_final_bugs = pd.DataFrame()\n",
    "df_final_bugs['WEEK_ID'] = WEEK_ID\n",
    "df_final_bugs['YEAR'] = YEAR\n",
    "df_final_bugs['WEEK'] = WEEK\n",
    "df_final_bugs['NO_QR'] = NO_QR\n",
    "df_final_bugs['MONTH'] = MONTH\n",
    "df_final_bugs['MONTH_NAME'] = MONTH_NAME\n",
    "df_final_bugs"
   ]
  },
  {
   "cell_type": "code",
   "execution_count": null,
   "metadata": {},
   "outputs": [],
   "source": [
    "# On parcourt les semaines et on ajoute le nombre d'extermintation\n",
    "NB_EXTERMINATIONS = []\n",
    "for index, row in df_final_bugs.iterrows():\n",
    "    curr_week = row['WEEK']\n",
    "    curr_year = row['YEAR']\n",
    "    curr_no_qr = row['NO_QR']\n",
    "    year_evts = grouped_events_copy[grouped_events_copy['YEAR_EVENT'] == curr_year]\n",
    "    week_evts = year_evts[year_evts['WEEK_EVENT'] == curr_week]\n",
    "    no_qr_evts = week_evts[week_evts['No_QR'] == curr_no_qr]\n",
    "    NB_EXTERMINATIONS.append(no_qr_evts['NBR_EXTERMIN'].sum())\n",
    "\n",
    "# On récupère le nombre d'exterminations cumulées sur la semaine actuelle et la dernière semaine\n",
    "NB_EXTERMINATIONS_2 = [0] + [NB_EXTERMINATIONS[i] + NB_EXTERMINATIONS[i+1] for i in range(len(NB_EXTERMINATIONS) - 1)]\n",
    "NB_EXTERMINATIONS_3 = [0]*2 + [NB_EXTERMINATIONS[i] + NB_EXTERMINATIONS[i+1] + NB_EXTERMINATIONS[i+2] for i in range(len(NB_EXTERMINATIONS) - 2)]\n",
    "NB_EXTERMINATIONS_4 = [0]*3 + [NB_EXTERMINATIONS[i] + NB_EXTERMINATIONS[i+1] + NB_EXTERMINATIONS[i+2] + NB_EXTERMINATIONS[i+3] for i in range(len(NB_EXTERMINATIONS) - 3)]"
   ]
  },
  {
   "cell_type": "code",
   "execution_count": null,
   "metadata": {},
   "outputs": [],
   "source": [
    "df_final_bugs['NB_EXTERMINATIONS'] = NB_EXTERMINATIONS\n",
    "df_final_bugs['NB_EXTERMINATIONS_2'] = NB_EXTERMINATIONS_2\n",
    "df_final_bugs['NB_EXTERMINATIONS_3'] = NB_EXTERMINATIONS_3\n",
    "df_final_bugs['NB_EXTERMINATIONS_4'] = NB_EXTERMINATIONS_4"
   ]
  },
  {
   "cell_type": "code",
   "execution_count": null,
   "metadata": {},
   "outputs": [],
   "source": [
    "# Ajout du label. On regarde le nombre d'exterminations qu'il y aura dans les 3 mois à venir\n",
    "LABEL_1mois = [sum(NB_EXTERMINATIONS[i:i+4]) for i in range(len(NB_EXTERMINATIONS))]\n",
    "LABEL_3mois = [sum(NB_EXTERMINATIONS[i:i+12]) for i in range(len(NB_EXTERMINATIONS))]\n",
    "df_final_bugs['LABEL_1mois'] = LABEL_1mois\n",
    "df_final_bugs['LABEL_3mois'] = LABEL_3mois\n",
    "df_final_bugs"
   ]
  },
  {
   "cell_type": "code",
   "execution_count": null,
   "metadata": {},
   "outputs": [],
   "source": [
    "df_final_bugs.to_csv('bbugs_final.csv', index=False)"
   ]
  },
  {
   "cell_type": "code",
   "execution_count": null,
   "metadata": {},
   "outputs": [],
   "source": [
    "# events_b['EXTERMIN_WEEK-1'] = 0\n",
    "# events_b['EXTERMIN_WEEK-2'] = 0\n",
    "# events_b['EXTERMIN_WEEK-3'] = 0\n",
    "# events_b['EXTERMIN_MONTH-1'] = 0\n",
    "# events_b['NUM_WEEKS_SINCE_LAST'] = 0"
   ]
  },
  {
   "cell_type": "code",
   "execution_count": null,
   "metadata": {},
   "outputs": [],
   "source": [
    "# week = 1\n",
    "# week_offset = 2"
   ]
  },
  {
   "cell_type": "code",
   "execution_count": null,
   "metadata": {},
   "outputs": [],
   "source": [
    "# def week_year_counter(week, year, week_offset):\n",
    "#     nb_weeks_in_year\n",
    "#     week_ = (week - week_offset - 1) % 54 + 1\n",
    "#     if week != (week - week_offset):\n",
    "#         year_ = year - 1\n",
    "#     else:\n",
    "#         year_ = year\n",
    "#     return(week_, year_)"
   ]
  },
  {
   "cell_type": "code",
   "execution_count": null,
   "metadata": {},
   "outputs": [],
   "source": [
    "# def get_condition(week, year, events):\n",
    "#     return ((events['WEEK_EVENT'] == week) & (events['YEAR_EVENT'] == year ))"
   ]
  },
  {
   "cell_type": "code",
   "execution_count": null,
   "metadata": {},
   "outputs": [],
   "source": [
    "# for q in events_b['No_QR'].unique():\n",
    "#     events_bb = events_b[events_b['No_QR'] == q]\n",
    "#     length = len(events_bb)\n",
    "#     for i, rows in events_bb.iterrows():\n",
    "#         #print(str((i/length)*100) + \" percent complete         \\r\")\n",
    "#         week_1, year_1 = week_year_counter(rows['WEEK_EVENT'], rows['YEAR_EVENT'], 1)\n",
    "#         week_2, year_2 = week_year_counter(rows['WEEK_EVENT'], rows['YEAR_EVENT'], 2)\n",
    "#         week_3, year_3 = week_year_counter(rows['WEEK_EVENT'], rows['YEAR_EVENT'], 3)\n",
    "#         week_4, year_4 = week_year_counter(rows['WEEK_EVENT'], rows['YEAR_EVENT'], 4)\n",
    "#         print(i)\n",
    "#         cond1 = events_bb[get_condition(week_1, year_1, events_bb)]['NBR_EXTERMIN']\n",
    "#         cond2 = events_bb[get_condition(week_2, year_2, events_bb)]['NBR_EXTERMIN']\n",
    "#         cond3 = events_bb[get_condition(week_3, year_3, events_bb)]['NBR_EXTERMIN']\n",
    "#         cond4 = events_bb[get_condition(week_4, year_4, events_bb)]['NBR_EXTERMIN']\n",
    "#         if not cond1.empty:\n",
    "#             print(cond1)\n",
    "#             events_b['EXTERMIN_WEEK-1'].iloc[i] += cond1.values[0]\n",
    "#             events_b['EXTERMIN_WEEK-2'].iloc[i] += cond1.values[0]\n",
    "#             events_b['EXTERMIN_WEEK-3'].iloc[i] += cond1.values[0]\n",
    "#             events_b['EXTERMIN_MONTH-1'].iloc[i] += cond1.values[0]\n",
    "#         if not cond2.empty:\n",
    "#             events_b['EXTERMIN_WEEK-2'].iloc[i] += cond2.values[0]\n",
    "#             events_b['EXTERMIN_WEEK-3'].iloc[i] += cond2.values[0]\n",
    "#             events_b['EXTERMIN_MONTH-1'].iloc[i]+= cond2.values[0]\n",
    "#         if not cond3.empty:\n",
    "#             events_b['EXTERMIN_WEEK-3'].iloc[i] += cond3.values[0]\n",
    "#             events_b['EXTERMIN_MONTH-1'].iloc[i]+= cond3.values[0]\n",
    "#         if not cond4.empty:\n",
    "#             events_b['EXTERMIN_MONTH-1'].iloc[i]+= cond4.values[0]\n",
    "      #  events_b['EXTERMIN_WEEK-2'].iloc[i] = events_bb[get_condition(week_2, year_2, events_bb)]['NBR_EXTERMIN'] + events_b['EXTERMIN_WEEK-1'].iloc[i]\n",
    "       # events_b['EXTERMIN_WEEK-3'].iloc[i] = events_bb[get_condition(week_3, year_3, events_bb)]['NBR_EXTERMIN'] + events_b['EXTERMIN_WEEK-2'].iloc[i]\n",
    "       # events_b['EXTERMIN_MONTH-1'].iloc[i] = events_bb[get_condition(week_4, year_4, events_bb)]['NBR_EXTERMIN'] + events_b['EXTERMIN_WEEK-3'].iloc[i]\n",
    "       # events_b['NUM_WEEKS_SINCE_LAST'].iloc[i] = \n",
    "\n",
    "    "
   ]
  }
 ],
 "metadata": {
  "@webio": {
   "lastCommId": null,
   "lastKernelId": null
  },
  "kernelspec": {
   "display_name": "Python 3",
   "language": "python",
   "name": "python3"
  },
  "language_info": {
   "codemirror_mode": {
    "name": "ipython",
    "version": 3
   },
   "file_extension": ".py",
   "mimetype": "text/x-python",
   "name": "python",
   "nbconvert_exporter": "python",
   "pygments_lexer": "ipython3",
   "version": "3.7.3"
  }
 },
 "nbformat": 4,
 "nbformat_minor": 2
}
